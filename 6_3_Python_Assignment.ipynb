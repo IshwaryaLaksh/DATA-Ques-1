{
  "cells": [
    {
      "cell_type": "markdown",
      "metadata": {
        "id": "view-in-github",
        "colab_type": "text"
      },
      "source": [
        "<a href=\"https://colab.research.google.com/github/IshwaryaLaksh/DATA-Ques-1/blob/main/6_3_Python_Assignment.ipynb\" target=\"_parent\"><img src=\"https://colab.research.google.com/assets/colab-badge.svg\" alt=\"Open In Colab\"/></a>"
      ]
    },
    {
      "cell_type": "markdown",
      "metadata": {
        "id": "l0ZzOlyxB-kf"
      },
      "source": [
        "<h1>Python: without numpy or sklearn </h1>"
      ]
    },
    {
      "cell_type": "markdown",
      "metadata": {
        "id": "C0xO8JV9B-ki"
      },
      "source": [
        "<h3> Q1: Given two matrices please print the product of those two matrices </h3>\n",
        "<pre>\n",
        "\n",
        "Ex 1: A   = [[1 3 4]\n",
        "             [2 5 7]\n",
        "             [5 9 6]]\n",
        "      B   = [[1 0 0]\n",
        "             [0 1 0]\n",
        "             [0 0 1]]\n",
        "      A*B = [[1 3 4]\n",
        "             [2 5 7]\n",
        "             [5 9 6]]\n",
        "\n",
        "     \n",
        "Ex 2: A   = [[1 2]\n",
        "             [3 4]]\n",
        "      B   = [[1 2 3 4 5]\n",
        "             [5 6 7 8 9]]\n",
        "      A*B = [[11 14 17 20 23]\n",
        "             [23 30 37 44 51]]\n",
        "             \n",
        "Ex 3: A   = [[1 2]\n",
        "             [3 4]]\n",
        "      B   = [[1 4]\n",
        "             [5 6]\n",
        "             [7 8]\n",
        "             [9 6]]\n",
        "      A*B =Not possible\n",
        "</pre>"
      ]
    },
    {
      "cell_type": "code",
      "execution_count": null,
      "metadata": {
        "id": "rnssAfpgB-kj"
      },
      "outputs": [],
      "source": [
        "# write your python code here\n",
        "# you can take the above example as sample input for your program to test\n",
        "# it should work for any general input try not to hard code for only given input examples\n",
        "# you can take matrix input from user or you can directly define the matrix and give input to the function\n",
        "# reference for creating input - https://stackoverflow.com/questions/12293208/how-to-create-a-list-of-lists\n",
        "\n",
        "# you can free to change all these codes/structure\n",
        "# here A and B are list of lists\n",
        "\n",
        "def matrix_mul(A, B):\n",
        "    for i in range(len(A)):\n",
        "      for j in range(len(B[0])):\n",
        "        for k in range(len(B)):\n",
        "          result[i][j] += A[i][k] * B[k][j]     \n",
        "    return(result)\n",
        "    \n"
      ]
    },
    {
      "cell_type": "code",
      "source": [
        "print(\"enter the number of rows for first matrix: \")\n",
        "R1 = int(input())\n",
        "print(\"enter the number of columns for first matrix: \")\n",
        "C1 = int(input())\n",
        "print(\"enter the number of rows for second matrix: \")\n",
        "R2 = int(input())\n",
        "print(\"enter the number of columns for second matrix: \")\n",
        "C2 = int(input())\n",
        "A = [[int(input()) for y in range(C1)] for x in range(R1)]###MATRIX INPUT SYNTAX\n",
        "B = [[int(input()) for y in range(C2)] for x in range(R2)]\n",
        "result = [[ 0 for y in range(C2)] for x in range(R1)]###RESULT MATRIX SYNTAX\n",
        "matrix_mul(A, B)\n"
      ],
      "metadata": {
        "id": "KDu13EJcH06m",
        "colab": {
          "base_uri": "https://localhost:8080/"
        },
        "outputId": "e8e4c18d-0115-4acb-cc4a-a14be55e97c2"
      },
      "execution_count": null,
      "outputs": [
        {
          "name": "stdout",
          "output_type": "stream",
          "text": [
            "enter the number of rows for first matrix: \n",
            "2\n",
            "enter the number of columns for first matrix: \n",
            "2\n",
            "enter the number of rows for second matrix: \n",
            "2\n",
            "enter the number of columns for second matrix: \n",
            "2\n",
            "1\n",
            "2\n",
            "3\n",
            "4\n",
            "1\n",
            "2\n",
            "3\n",
            "4\n"
          ]
        },
        {
          "output_type": "execute_result",
          "data": {
            "text/plain": [
              "[[7, 10], [15, 22]]"
            ]
          },
          "metadata": {},
          "execution_count": 28
        }
      ]
    },
    {
      "cell_type": "markdown",
      "metadata": {
        "id": "D1xQy2WWB-kq"
      },
      "source": [
        "<h3> Q2: Replace the digits in the string with #</h3>\n",
        "\n",
        "consider a string that will have digits in that, we need to remove all the not digits and replace the digits with #\n",
        "<pre>\n",
        "Ex 1: A = 234                Output: ###\n",
        "Ex 2: A = a2b3c4             Output: ###\n",
        "Ex 3: A = abc                Output:   (empty string)\n",
        "Ex 5: A = #2a$#b%c%561#      Output: ####\n",
        "</pre>"
      ]
    },
    {
      "cell_type": "code",
      "execution_count": null,
      "metadata": {
        "id": "fxczi2jzB-kr"
      },
      "outputs": [],
      "source": [
        "import re\n",
        "# write your python code here\n",
        "# you can take the above example as sample input for your program to test\n",
        "# it should work for any general input try not to hard code for only given input examples\n",
        "# try to complete this question using regular expressions\n",
        "# you can free to change all these codes/structure\n",
        "# String: it will be the input to your program\n",
        "# https://www.w3schools.com/python/python_regex.asp\n",
        "\n",
        "def replace_digits(String):\n",
        "    r = ''.join('#' for i in String if i.isdigit())\n",
        "    return(r) # modified string which is after replacing the # with digits\n",
        "    "
      ]
    },
    {
      "cell_type": "code",
      "source": [
        "String = input()\n",
        "replace_digits(String)"
      ],
      "metadata": {
        "id": "dVHT5IA9Isbu",
        "colab": {
          "base_uri": "https://localhost:8080/",
          "height": 52
        },
        "outputId": "a73a9545-df34-4fe4-8e3a-4c67ca796bba"
      },
      "execution_count": null,
      "outputs": [
        {
          "name": "stdout",
          "output_type": "stream",
          "text": [
            "nckj12345xn\n"
          ]
        },
        {
          "output_type": "execute_result",
          "data": {
            "text/plain": [
              "'#####'"
            ],
            "application/vnd.google.colaboratory.intrinsic+json": {
              "type": "string"
            }
          },
          "metadata": {},
          "execution_count": 43
        }
      ]
    },
    {
      "cell_type": "markdown",
      "metadata": {
        "id": "9OBpURbNB-k9"
      },
      "source": [
        "<h3> Q3: Filling the missing values in the specified formate</h3>\n",
        "You will be given a string with digits and '\\_'(missing value) symbols you have to replace the '\\_' symbols as explained \n",
        "<pre>\n",
        "Ex 1: _, _, _, 24 ==> 24/4, 24/4, 24/4, 24/4 i.e we. have distributed the 24 equally to all 4 places <br>\n",
        "Ex 2: 40, _, _, _, 60 ==> (60+40)/5,(60+40)/5,(60+40)/5,(60+40)/5,(60+40)/5 ==> 20, 20, 20, 20, 20 i.e. the sum of (60+40) is distributed qually to all 5 places<br>\n",
        "Ex 3: 80, _, _, _, _  ==> 80/5,80/5,80/5,80/5,80/5 ==> 16, 16, 16, 16, 16 i.e. the 80 is distributed qually to all 5 missing values that are right to it<br>\n",
        "Ex 4: _, _, 30, _, _, _, 50, _, _  \n",
        "==> we will fill the missing values from left to right \n",
        "    a. first we will distribute the 30 to left two missing values (10, 10, 10, _, _, _, 50, _, _)\n",
        "    b. now distribute the sum (10+50) missing values in between (10, 10, 12, 12, 12, 12, 12, _, _) \n",
        "    c. now we will distribute 12 to right side missing values (10, 10, 12, 12, 12, 12, 4, 4, 4)\n",
        "</pre>\n",
        "for a given string with comma seprate values, which will have both missing values numbers like ex: \"_, _, x, _, _, _\"\n",
        "you need fill the missing values\n",
        "\n",
        "Q: your program reads a string like ex: \"_, _, x, _, _, _\" and returns the filled sequence\n",
        "\n",
        "Ex: \n",
        "<pre>\n",
        "Input1: \"_,_,_,24\"\n",
        "Output1: 6,6,6,6\n",
        "\n",
        "Input2: \"40,_,_,_,60\"\n",
        "Output2: 20,20,20,20,20\n",
        "\n",
        "Input3: \"80,_,_,_,_\"\n",
        "Output3: 16,16,16,16,16\n",
        "\n",
        "Input4: \"_,_,30,_,_,_,50,_,_\"\n",
        "Output4: 10,10,12,12,12,12,4,4,4\n",
        "\n",
        "</pre>\n",
        "\n"
      ]
    },
    {
      "cell_type": "code",
      "execution_count": null,
      "metadata": {
        "id": "nZmpzHs_B-k-"
      },
      "outputs": [],
      "source": [
        "# write your python code here\n",
        "# you can take the above example as sample input for your program to test\n",
        "# it should work for any general input try not to hard code for only given input strings\n",
        "#run your code in the function for each of the inputs mentioned above and make sure that you get the same results\n",
        "\n",
        "# you can free to change all these codes/structure\n",
        "def curve_smoothing(string):\n",
        "    # your code\n",
        "    index_of_non_empty_cells_list = []\n",
        "\n",
        "    split_string = string.split(',')\n",
        "    \n",
        "    for i in range(len(split_string)):\n",
        "        if split_string[i] != '_':\n",
        "            index_of_non_empty_cells_list.append(i)\n",
        "            \n",
        "    # add the length of the original list to index_of_non_empty_cells_list\n",
        "    index_of_non_empty_cells_list.append(len(split_string) - 1)\n",
        "    \n",
        "    #print(index_of_non_empty_cells_list)\n",
        "    \n",
        "    # Loop over the index_of_non_empty_cells_list to modify the original list by filling up empty slots\n",
        "    \n",
        "    start = 0\n",
        "    \n",
        "    for ele in index_of_non_empty_cells_list:\n",
        "        # Whenever there is a missing value, add the proceeding value and the immediately next available value\n",
        "        # and divide it by the number of missing values.\n",
        "        # Calculate the cumulative_sum of available non-empty cells.\n",
        "        cumulative_sum_prev_and_next_value = int(split_string[ele]) if split_string[ele] != '_' else 0\n",
        "        cumulative_sum_prev_and_next_value += int(split_string[start]) if split_string[start] != '_' and start != ele else 0\n",
        "#       print(cumulative_sum_prev_and_next_value)\n",
        "        # Divide the cumulative_sum of prev and next value by the number of missing values\n",
        "        integer_to_replace = cumulative_sum_prev_and_next_value // (ele - start + 1)\n",
        "        split_string = [integer_to_replace if start <= x <= ele else split_string[x] for x in range(len(split_string))]\n",
        "        start = ele\n",
        "    return split_string#list of values\n",
        "\n",
        "    "
      ]
    },
    {
      "cell_type": "code",
      "source": [
        "S=  \"_,_,30,_,_,_,50,_,_\"\n",
        "smoothed_values= curve_smoothing(S)\n",
        "print(smoothed_values)"
      ],
      "metadata": {
        "id": "IIucOsAnkC3X",
        "colab": {
          "base_uri": "https://localhost:8080/"
        },
        "outputId": "c6a3d243-ecfe-4f0a-8b49-e1ce859f9d37"
      },
      "execution_count": null,
      "outputs": [
        {
          "output_type": "stream",
          "name": "stdout",
          "text": [
            "[10, 10, 12, 12, 12, 12, 4, 4, 4]\n"
          ]
        }
      ]
    },
    {
      "cell_type": "markdown",
      "metadata": {
        "id": "n4HS87QmB-lF"
      },
      "source": [
        "<h3> Q4: Given two sentances S1, S2</h3>\n",
        "You will be given two sentances S1, S2 your task is to find \n",
        "<pre>\n",
        "a. Number of common words between S1, S2\n",
        "b. Words in S1 but not in S2\n",
        "## c. Words in S2 but not in S1\n",
        "</pre>\n",
        "\n",
        "Ex: \n",
        "<pre>\n",
        "S1= \"the first column F will contain only 5 uniques values\"\n",
        "S2= \"the second column S will contain only 3 uniques values\"\n",
        "Output:\n",
        "a. 7\n",
        "b. ['first','F','5']\n",
        "c. ['second','S','3']\n",
        "</pre>"
      ]
    },
    {
      "cell_type": "code",
      "execution_count": 1,
      "metadata": {
        "id": "Ez7hlHK0B-lG"
      },
      "outputs": [],
      "source": [
        "# write your python code here\n",
        "# you can take the above example as sample input for your program to test\n",
        "# it should work for any general input try not to hard code for only given input strings\n",
        "\n",
        "# you can free to change all these codes/structure\n",
        "def string_features(S1, S2):\n",
        "    # your code\n",
        "    # Split the words of the sentences and put the words in a set\n",
        "    S1_words = set(S1.split())\n",
        "    S2_words = set(S2.split())\n",
        "    # Use set intersection operation to get the common words between 2 sets and compute the length of the resultant set\n",
        "    a = len(S1_words & S2_words)\n",
        "    # Use set difference operation to get the words that present in either of the set and display the words as a list\n",
        "    b = set(S1_words) - (set(S2_words))\n",
        "    b_l = list(b)\n",
        "    c = set(S2_words) - (set(S1_words))\n",
        "    c_l = list(c)\n",
        "    return a, b_l, c_l\n",
        "\n",
        "\n",
        "\n"
      ]
    },
    {
      "cell_type": "code",
      "source": [
        "S1= \"the first column F will contain only 5 uniques values\"\n",
        "S2= \"the second column S will contain only 3 uniques values\"\n",
        "a, b_l, c_l = string_features(S1, S2)\n",
        "print(a)\n",
        "print(b_l)\n",
        "print(c_l)\n"
      ],
      "metadata": {
        "id": "0vEhNa6UkhCs",
        "colab": {
          "base_uri": "https://localhost:8080/"
        },
        "outputId": "cef0d04a-3766-4268-fa6e-f32381c8d128"
      },
      "execution_count": 4,
      "outputs": [
        {
          "output_type": "stream",
          "name": "stdout",
          "text": [
            "7\n",
            "['5', 'F', 'first']\n",
            "['S', 'second', '3']\n"
          ]
        }
      ]
    }
  ],
  "metadata": {
    "colab": {
      "provenance": [],
      "include_colab_link": true
    },
    "kernelspec": {
      "display_name": "Python 3",
      "language": "python",
      "name": "python3"
    },
    "language_info": {
      "codemirror_mode": {
        "name": "ipython",
        "version": 3
      },
      "file_extension": ".py",
      "mimetype": "text/x-python",
      "name": "python",
      "nbconvert_exporter": "python",
      "pygments_lexer": "ipython3",
      "version": "3.6.3"
    }
  },
  "nbformat": 4,
  "nbformat_minor": 0
}